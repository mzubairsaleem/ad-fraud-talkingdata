{
 "cells": [
  {
   "cell_type": "code",
   "execution_count": 53,
   "metadata": {},
   "outputs": [],
   "source": [
    "import pandas as pd\n",
    "import numpy as np\n",
    "import matplotlib\n",
    "import matplotlib.pyplot as plt\n",
    "%reload_ext autotime"
   ]
  },
  {
   "cell_type": "code",
   "execution_count": 54,
   "metadata": {},
   "outputs": [
    {
     "name": "stdout",
     "output_type": "stream",
     "text": [
      "<class 'pandas.core.frame.DataFrame'>\n",
      "RangeIndex: 100000 entries, 0 to 99999\n",
      "Data columns (total 8 columns):\n",
      "ip                 100000 non-null uint32\n",
      "app                100000 non-null uint16\n",
      "device             100000 non-null uint8\n",
      "os                 100000 non-null uint8\n",
      "channel            100000 non-null uint8\n",
      "click_time         100000 non-null datetime64[ns]\n",
      "attributed_time    227 non-null datetime64[ns]\n",
      "is_attributed      100000 non-null uint8\n",
      "dtypes: datetime64[ns](2), uint16(1), uint32(1), uint8(4)\n",
      "memory usage: 2.5 MB\n",
      "time: 300 ms\n"
     ]
    }
   ],
   "source": [
    "dtypes = {'ip': np.uint32, 'app': np.uint16, 'device': np.uint8, 'os': np.uint8, 'channel': np.uint8, 'is_attributed': np.uint8}\n",
    "X_train_df = pd.read_csv('raw_data/train_sample.csv', sep=',', dtype=dtypes, parse_dates=['click_time', 'attributed_time'])\n",
    "X_train_df.info(memory_usage='deep')"
   ]
  },
  {
   "cell_type": "code",
   "execution_count": 55,
   "metadata": {},
   "outputs": [
    {
     "name": "stdout",
     "output_type": "stream",
     "text": [
      "Unique 'ip' count: 34857\n",
      "Unique 'app' count: 161\n",
      "Unique 'device' & 'os' combinations count: 300\n",
      "Unique 'channel' count: 134\n",
      "Total downloads count in training set: 1816\n",
      "time: 31.1 ms\n"
     ]
    }
   ],
   "source": [
    "print ('Unique \\'ip\\' count:',X_train_df.ip.unique().size)\n",
    "print ('Unique \\'app\\' count:',X_train_df.app.unique().size)\n",
    "print ('Unique \\'device\\' & \\'os\\' combinations count:',X_train_df.groupby(['device','os']).size().size)\n",
    "print ('Unique \\'channel\\' count:',X_train_df.channel.unique().size)\n",
    "print ('Total downloads count in training set:',X_train_df[X_train_df.is_attributed == 1].size)"
   ]
  },
  {
   "cell_type": "code",
   "execution_count": 56,
   "metadata": {},
   "outputs": [
    {
     "name": "stdout",
     "output_type": "stream",
     "text": [
      "Error in callback <bound method LineWatcher.stop of <autotime.LineWatcher object at 0x000001E7B6BDBB38>> (for post_run_cell):\n"
     ]
    },
    {
     "ename": "AssertionError",
     "evalue": "",
     "traceback": [
      "\u001b[1;31m---------------------------------------------------------------------------\u001b[0m",
      "\u001b[1;31mAssertionError\u001b[0m                            Traceback (most recent call last)",
      "\u001b[1;32mc:\\python36\\lib\\site-packages\\autotime.py\u001b[0m in \u001b[0;36mstop\u001b[1;34m(self)\u001b[0m\n\u001b[0;32m     23\u001b[0m         \u001b[1;32mif\u001b[0m \u001b[0mself\u001b[0m\u001b[1;33m.\u001b[0m\u001b[0mstart_time\u001b[0m\u001b[1;33m:\u001b[0m\u001b[1;33m\u001b[0m\u001b[0m\n\u001b[0;32m     24\u001b[0m             \u001b[0mdiff\u001b[0m \u001b[1;33m=\u001b[0m \u001b[0mtime\u001b[0m\u001b[1;33m.\u001b[0m\u001b[0mtime\u001b[0m\u001b[1;33m(\u001b[0m\u001b[1;33m)\u001b[0m \u001b[1;33m-\u001b[0m \u001b[0mself\u001b[0m\u001b[1;33m.\u001b[0m\u001b[0mstart_time\u001b[0m\u001b[1;33m\u001b[0m\u001b[0m\n\u001b[1;32m---> 25\u001b[1;33m             \u001b[1;32massert\u001b[0m \u001b[0mdiff\u001b[0m \u001b[1;33m>\u001b[0m \u001b[1;36m0\u001b[0m\u001b[1;33m\u001b[0m\u001b[0m\n\u001b[0m\u001b[0;32m     26\u001b[0m             \u001b[0mprint\u001b[0m\u001b[1;33m(\u001b[0m\u001b[1;34m'time: %s'\u001b[0m \u001b[1;33m%\u001b[0m \u001b[0mformat_delta\u001b[0m\u001b[1;33m(\u001b[0m\u001b[0mdiff\u001b[0m\u001b[1;33m)\u001b[0m\u001b[1;33m)\u001b[0m\u001b[1;33m\u001b[0m\u001b[0m\n\u001b[0;32m     27\u001b[0m \u001b[1;33m\u001b[0m\u001b[0m\n",
      "\u001b[1;31mAssertionError\u001b[0m: "
     ],
     "output_type": "error"
    }
   ],
   "source": [
    "y = X_train_df['is_attributed']\n",
    "# drop is_attributed from training dataset\n",
    "X_train_df.drop(['is_attributed'], axis=1, inplace=True)"
   ]
  },
  {
   "cell_type": "code",
   "execution_count": 57,
   "metadata": {},
   "outputs": [
    {
     "name": "stdout",
     "output_type": "stream",
     "text": [
      "Error in callback <bound method LineWatcher.stop of <autotime.LineWatcher object at 0x000001E7B6BDBB38>> (for post_run_cell):\n"
     ]
    },
    {
     "ename": "AssertionError",
     "evalue": "",
     "traceback": [
      "\u001b[1;31m---------------------------------------------------------------------------\u001b[0m",
      "\u001b[1;31mAssertionError\u001b[0m                            Traceback (most recent call last)",
      "\u001b[1;32mc:\\python36\\lib\\site-packages\\autotime.py\u001b[0m in \u001b[0;36mstop\u001b[1;34m(self)\u001b[0m\n\u001b[0;32m     23\u001b[0m         \u001b[1;32mif\u001b[0m \u001b[0mself\u001b[0m\u001b[1;33m.\u001b[0m\u001b[0mstart_time\u001b[0m\u001b[1;33m:\u001b[0m\u001b[1;33m\u001b[0m\u001b[0m\n\u001b[0;32m     24\u001b[0m             \u001b[0mdiff\u001b[0m \u001b[1;33m=\u001b[0m \u001b[0mtime\u001b[0m\u001b[1;33m.\u001b[0m\u001b[0mtime\u001b[0m\u001b[1;33m(\u001b[0m\u001b[1;33m)\u001b[0m \u001b[1;33m-\u001b[0m \u001b[0mself\u001b[0m\u001b[1;33m.\u001b[0m\u001b[0mstart_time\u001b[0m\u001b[1;33m\u001b[0m\u001b[0m\n\u001b[1;32m---> 25\u001b[1;33m             \u001b[1;32massert\u001b[0m \u001b[0mdiff\u001b[0m \u001b[1;33m>\u001b[0m \u001b[1;36m0\u001b[0m\u001b[1;33m\u001b[0m\u001b[0m\n\u001b[0m\u001b[0;32m     26\u001b[0m             \u001b[0mprint\u001b[0m\u001b[1;33m(\u001b[0m\u001b[1;34m'time: %s'\u001b[0m \u001b[1;33m%\u001b[0m \u001b[0mformat_delta\u001b[0m\u001b[1;33m(\u001b[0m\u001b[0mdiff\u001b[0m\u001b[1;33m)\u001b[0m\u001b[1;33m)\u001b[0m\u001b[1;33m\u001b[0m\u001b[0m\n\u001b[0;32m     27\u001b[0m \u001b[1;33m\u001b[0m\u001b[0m\n",
      "\u001b[1;31mAssertionError\u001b[0m: "
     ],
     "output_type": "error"
    }
   ],
   "source": [
    "# X_train_df['attributed_dayofyear'] = X_train_df['attributed_time'].dt.dayofyear\n",
    "# X_train_df['attributed_dayofyear'].fillna(value=0, inplace=True)\n",
    "# X_train_df['attributed_hour'] = X_train_df['attributed_time'].dt.hour\n",
    "# X_train_df['attributed_hour'].fillna(value=0, inplace=True)\n",
    "# X_train_df['attributed_minute'] = X_train_df['attributed_time'].dt.minute\n",
    "# X_train_df['attributed_minute'].fillna(value=0, inplace=True)\n",
    "X_train_df.drop(['attributed_time'], axis=1, inplace=True)"
   ]
  },
  {
   "cell_type": "code",
   "execution_count": 58,
   "metadata": {},
   "outputs": [
    {
     "name": "stdout",
     "output_type": "stream",
     "text": [
      "time: 53.4 ms\n"
     ]
    }
   ],
   "source": [
    "X_train_df['click_dayofyear'] = X_train_df['click_time'].dt.dayofyear\n",
    "X_train_df['click_hour'] = X_train_df['click_time'].dt.hour\n",
    "X_train_df['click_minute'] = X_train_df['click_time'].dt.minute\n",
    "X_train_df.drop(['click_time'], axis=1, inplace=True)"
   ]
  },
  {
   "cell_type": "code",
   "execution_count": 59,
   "metadata": {},
   "outputs": [
    {
     "name": "stdout",
     "output_type": "stream",
     "text": [
      "<class 'pandas.core.frame.DataFrame'>\n",
      "RangeIndex: 100000 entries, 0 to 99999\n",
      "Data columns (total 8 columns):\n",
      "ip                 100000 non-null uint32\n",
      "app                100000 non-null uint16\n",
      "device             100000 non-null uint8\n",
      "os                 100000 non-null uint8\n",
      "channel            100000 non-null uint8\n",
      "click_dayofyear    100000 non-null int64\n",
      "click_hour         100000 non-null int64\n",
      "click_minute       100000 non-null int64\n",
      "dtypes: int64(3), uint16(1), uint32(1), uint8(3)\n",
      "memory usage: 3.1 MB\n",
      "time: 31.1 ms\n"
     ]
    }
   ],
   "source": [
    "X_train_df.info()"
   ]
  },
  {
   "cell_type": "code",
   "execution_count": 63,
   "metadata": {},
   "outputs": [
    {
     "name": "stdout",
     "output_type": "stream",
     "text": [
      "[0.8396603  0.7549522  0.84345124 0.60378436 0.78411215 0.79181247\n",
      " 0.74555826 0.77690962 0.78057259 0.88187376]\n",
      "time: 6.22 s\n"
     ]
    }
   ],
   "source": [
    "# 10-fold cross-validation with logistic regression\n",
    "from sklearn.linear_model import LogisticRegression\n",
    "from sklearn.model_selection import cross_val_score\n",
    "logreg = LogisticRegression()\n",
    "print(cross_val_score(logreg, X_train_df, y, cv=10, scoring='roc_auc'))"
   ]
  },
  {
   "cell_type": "code",
   "execution_count": 64,
   "metadata": {},
   "outputs": [
    {
     "name": "stdout",
     "output_type": "stream",
     "text": [
      "[0 1]\n",
      "time: 701 ms\n"
     ]
    }
   ],
   "source": [
    "from sklearn.linear_model import LogisticRegression\n",
    "from sklearn.model_selection import cross_val_score\n",
    "logreg = LogisticRegression()\n",
    "logreg.fit(X_train_df, y)\n",
    "predictions = logreg.predict(X_train_df)\n",
    "print(np.unique(predictions))"
   ]
  },
  {
   "cell_type": "code",
   "execution_count": 30,
   "metadata": {},
   "outputs": [
    {
     "data": {
      "text/plain": [
       "array([0, 1], dtype=uint64)"
      ]
     },
     "execution_count": 30,
     "metadata": {},
     "output_type": "execute_result"
    },
    {
     "name": "stdout",
     "output_type": "stream",
     "text": [
      "time: 15.4 ms\n"
     ]
    }
   ],
   "source": [
    "y.unique()"
   ]
  }
 ],
 "metadata": {
  "kernelspec": {
   "display_name": "Python 3",
   "language": "python",
   "name": "python3"
  },
  "language_info": {
   "codemirror_mode": {
    "name": "ipython",
    "version": 3
   },
   "file_extension": ".py",
   "mimetype": "text/x-python",
   "name": "python",
   "nbconvert_exporter": "python",
   "pygments_lexer": "ipython3",
   "version": "3.6.4"
  }
 },
 "nbformat": 4,
 "nbformat_minor": 2
}
