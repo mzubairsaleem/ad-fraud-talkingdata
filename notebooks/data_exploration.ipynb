{
 "cells": [
  {
   "cell_type": "markdown",
   "metadata": {},
   "source": [
    "# Exploratory Data Analysis\n",
    "\n",
    "Remember the quality of your inputs decide the quality of your output. \n",
    "\n",
    "Univariate Analysis\n",
    "\n",
    "At this stage, we explore variables one by one. Method to perform uni-variate analysis will depend on whether the variable type is categorical or continuous. Let’s look at these methods and statistical measures for categorical and continuous variables individually:\n",
    "\n",
    "Continuous Variables:- In case of continuous variables, we need to understand the central tendency and spread of the variable. These are measured using various statistical metrics visualization methods as shown below:\n",
    "\n",
    "\n",
    "Numerical Features\n",
    "\n",
    "Categorical Features\n",
    "\n",
    "Bi-variate Analysis\n",
    "\n",
    "Bi-variate Analysis finds out the relationship between two variables. Here, we look for association and disassociation between variables at a pre-defined significance level. We can perform bi-variate analysis for any combination of categorical and continuous variables. The combination can be: Categorical & Categorical, Categorical & Continuous and Continuous & Continuous. Different methods are used to tackle these combinations during analysis process.\n",
    "\n",
    "\n",
    "Missing Value Treatment\n",
    "\n",
    " \n",
    "Why missing values treatment is required?\n",
    "\n",
    "Missing data in the training data set can reduce the power / fit of a model or can lead to a biased model because we have not analysed the behavior and relationship with other variables correctly. It can lead to wrong prediction or classification.\n",
    "\n",
    "\n",
    "Imputing missing values\n",
    "\n",
    "Transforming numerical varaibles that seems to be categorical\n",
    "\n",
    "Label econding categorical varaibles\n",
    "\n",
    "\n",
    "Outliers\n",
    "Explore outliers using scatter plot\n",
    "Delete outliers\n",
    "\n",
    "\n",
    "\n",
    "Clusters\n",
    "\n",
    "\n",
    "Correlations\n",
    "Correlation shows how features are correlated with target label\n"
   ]
  },
  {
   "cell_type": "code",
   "execution_count": 50,
   "metadata": {},
   "outputs": [
    {
     "data": {
      "text/html": [
       "<script>requirejs.config({paths: { 'plotly': ['https://cdn.plot.ly/plotly-latest.min']},});if(!window.Plotly) {{require(['plotly'],function(plotly) {window.Plotly=plotly;});}}</script>"
      ],
      "text/vnd.plotly.v1+html": [
       "<script>requirejs.config({paths: { 'plotly': ['https://cdn.plot.ly/plotly-latest.min']},});if(!window.Plotly) {{require(['plotly'],function(plotly) {window.Plotly=plotly;});}}</script>"
      ]
     },
     "metadata": {},
     "output_type": "display_data"
    },
    {
     "name": "stdout",
     "output_type": "stream",
     "text": [
      "The autotime extension is already loaded. To reload it, use:\n",
      "  %reload_ext autotime\n",
      "time: 15.6 ms\n"
     ]
    }
   ],
   "source": [
    "import pandas as pd\n",
    "import numpy as np\n",
    "import matplotlib.pyplot as plt\n",
    "%matplotlib inline\n",
    "import plotly.offline as py\n",
    "py.init_notebook_mode(connected=True)\n",
    "import seaborn as sns\n",
    "%load_ext autotime"
   ]
  },
  {
   "cell_type": "code",
   "execution_count": 47,
   "metadata": {},
   "outputs": [
    {
     "name": "stdout",
     "output_type": "stream",
     "text": [
      "<class 'pandas.core.frame.DataFrame'>\n",
      "RangeIndex: 100000 entries, 0 to 99999\n",
      "Data columns (total 8 columns):\n",
      "ip                 100000 non-null uint32\n",
      "app                100000 non-null uint16\n",
      "device             100000 non-null uint8\n",
      "os                 100000 non-null uint8\n",
      "channel            100000 non-null uint8\n",
      "click_time         100000 non-null datetime64[ns]\n",
      "attributed_time    227 non-null datetime64[ns]\n",
      "is_attributed      100000 non-null bool\n",
      "dtypes: bool(1), datetime64[ns](2), uint16(1), uint32(1), uint8(3)\n",
      "memory usage: 2.5 MB\n",
      "time: 219 ms\n"
     ]
    }
   ],
   "source": [
    "dtypes = {'ip': np.uint32, 'app': np.uint16, 'device': np.uint8, 'os': np.uint8, 'channel': np.uint8, 'is_attributed': np.bool}\n",
    "train_df = pd.read_csv('../data/raw/train_sample.csv', sep=',', dtype=dtypes, parse_dates=['click_time', 'attributed_time'])\n",
    "train_df.info(memory_usage='deep')"
   ]
  },
  {
   "cell_type": "code",
   "execution_count": 48,
   "metadata": {},
   "outputs": [
    {
     "data": {
      "text/html": [
       "<div>\n",
       "<style scoped>\n",
       "    .dataframe tbody tr th:only-of-type {\n",
       "        vertical-align: middle;\n",
       "    }\n",
       "\n",
       "    .dataframe tbody tr th {\n",
       "        vertical-align: top;\n",
       "    }\n",
       "\n",
       "    .dataframe thead th {\n",
       "        text-align: right;\n",
       "    }\n",
       "</style>\n",
       "<table border=\"1\" class=\"dataframe\">\n",
       "  <thead>\n",
       "    <tr style=\"text-align: right;\">\n",
       "      <th></th>\n",
       "      <th>ip</th>\n",
       "      <th>app</th>\n",
       "      <th>device</th>\n",
       "      <th>os</th>\n",
       "      <th>channel</th>\n",
       "      <th>click_time</th>\n",
       "      <th>attributed_time</th>\n",
       "      <th>is_attributed</th>\n",
       "    </tr>\n",
       "  </thead>\n",
       "  <tbody>\n",
       "    <tr>\n",
       "      <th>0</th>\n",
       "      <td>87540</td>\n",
       "      <td>12</td>\n",
       "      <td>1</td>\n",
       "      <td>13</td>\n",
       "      <td>241</td>\n",
       "      <td>2017-11-07 09:30:38</td>\n",
       "      <td>NaT</td>\n",
       "      <td>False</td>\n",
       "    </tr>\n",
       "    <tr>\n",
       "      <th>1</th>\n",
       "      <td>105560</td>\n",
       "      <td>25</td>\n",
       "      <td>1</td>\n",
       "      <td>17</td>\n",
       "      <td>3</td>\n",
       "      <td>2017-11-07 13:40:27</td>\n",
       "      <td>NaT</td>\n",
       "      <td>False</td>\n",
       "    </tr>\n",
       "    <tr>\n",
       "      <th>2</th>\n",
       "      <td>101424</td>\n",
       "      <td>12</td>\n",
       "      <td>1</td>\n",
       "      <td>19</td>\n",
       "      <td>212</td>\n",
       "      <td>2017-11-07 18:05:24</td>\n",
       "      <td>NaT</td>\n",
       "      <td>False</td>\n",
       "    </tr>\n",
       "    <tr>\n",
       "      <th>3</th>\n",
       "      <td>94584</td>\n",
       "      <td>13</td>\n",
       "      <td>1</td>\n",
       "      <td>13</td>\n",
       "      <td>221</td>\n",
       "      <td>2017-11-07 04:58:08</td>\n",
       "      <td>NaT</td>\n",
       "      <td>False</td>\n",
       "    </tr>\n",
       "    <tr>\n",
       "      <th>4</th>\n",
       "      <td>68413</td>\n",
       "      <td>12</td>\n",
       "      <td>1</td>\n",
       "      <td>1</td>\n",
       "      <td>178</td>\n",
       "      <td>2017-11-09 09:00:09</td>\n",
       "      <td>NaT</td>\n",
       "      <td>False</td>\n",
       "    </tr>\n",
       "  </tbody>\n",
       "</table>\n",
       "</div>"
      ],
      "text/plain": [
       "       ip  app  device  os  channel          click_time attributed_time  \\\n",
       "0   87540   12       1  13      241 2017-11-07 09:30:38             NaT   \n",
       "1  105560   25       1  17        3 2017-11-07 13:40:27             NaT   \n",
       "2  101424   12       1  19      212 2017-11-07 18:05:24             NaT   \n",
       "3   94584   13       1  13      221 2017-11-07 04:58:08             NaT   \n",
       "4   68413   12       1   1      178 2017-11-09 09:00:09             NaT   \n",
       "\n",
       "   is_attributed  \n",
       "0          False  \n",
       "1          False  \n",
       "2          False  \n",
       "3          False  \n",
       "4          False  "
      ]
     },
     "execution_count": 48,
     "metadata": {},
     "output_type": "execute_result"
    },
    {
     "name": "stdout",
     "output_type": "stream",
     "text": [
      "time: 15.6 ms\n"
     ]
    }
   ],
   "source": [
    "train_df.head(5)"
   ]
  },
  {
   "cell_type": "markdown",
   "metadata": {},
   "source": [
    "## Dataset Overview\n",
    "\n",
    "Lets look at features' unique values count"
   ]
  },
  {
   "cell_type": "code",
   "execution_count": 88,
   "metadata": {},
   "outputs": [
    {
     "data": {
      "image/png": "[encoded data removed]",
      "text/plain": [
       "<Figure size 720x360 with 1 Axes>"
      ]
     },
     "metadata": {},
     "output_type": "display_data"
    },
    {
     "name": "stdout",
     "output_type": "stream",
     "text": [
      "time: 375 ms\n"
     ]
    }
   ],
   "source": [
    "labels = train_df.columns.values.tolist()\n",
    "df_unique_values = pd.Series()\n",
    "for label in labels:\n",
    "    df_unique_values[label] = train_df[label].value_counts().count()\n",
    "ax = df_unique_values.sort_values(ascending=False).plot(kind='bar', logy=True, figsize=(10, 5), fontsize=12)\n",
    "ax.set_xlabel(\"Features\", fontsize = 18)\n",
    "ax.set_ylabel(\"Number of unique values\", fontsize = 18)\n",
    "for p in ax.patches:\n",
    "    ax.annotate(np.round(p.get_height(),decimals=2), (p.get_x()+p.get_width()/2., p.get_height()), ha='center', va='center', xytext=(0, 10), textcoords='offset points')\n",
    "plt.show()"
   ]
  },
  {
   "cell_type": "code",
   "execution_count": 4,
   "metadata": {},
   "outputs": [
    {
     "data": {
      "text/plain": [
       "<matplotlib.axes._subplots.AxesSubplot at 0x18b1fee45f8>"
      ]
     },
     "execution_count": 4,
     "metadata": {},
     "output_type": "execute_result"
    },
    {
     "data": {
      "image/png": "[encoded data removed]",
      "text/plain": [
       "<Figure size 432x288 with 1 Axes>"
      ]
     },
     "metadata": {},
     "output_type": "display_data"
    }
   ],
   "source": [
    "train_sample_df['app'].plot()"
   ]
  },
  {
   "cell_type": "code",
   "execution_count": 5,
   "metadata": {},
   "outputs": [
    {
     "data": {
      "text/plain": [
       "<matplotlib.axes._subplots.AxesSubplot at 0x18b1f20ee48>"
      ]
     },
     "execution_count": 5,
     "metadata": {},
     "output_type": "execute_result"
    },
    {
     "data": {
      "image/png": "[encoded data removed]",
      "text/plain": [
       "<Figure size 1080x720 with 1 Axes>"
      ]
     },
     "metadata": {},
     "output_type": "display_data"
    }
   ],
   "source": [
    "train_sample_df.plot(figsize=(15, 10))"
   ]
  },
  {
   "cell_type": "code",
   "execution_count": 25,
   "metadata": {
    "scrolled": true
   },
   "outputs": [
    {
     "data": {
      "text/plain": [
       "array([ 12,  25,  13,   3,   1,   9,   2,   6,  20,  14,  64,   7,  15,\n",
       "        18,  11,   8,  23,  21,  56,  28,  36,  22,  26,  17,  27,  10,\n",
       "        60,  58,  19,  32,  24,   4,  53, 125, 204,   5, 202,  70,  47,\n",
       "        29,  55, 103,  35,  83, 208, 146, 161,  46,  62,  65, 110,  42,\n",
       "       150, 266, 151, 148,  72, 310,  93,  94,  71,  43,  39, 170,  37,\n",
       "        68,  54, 107, 398, 160,  30, 183, 315,  45, 121,  38,  82, 134,\n",
       "        33, 233, 100,  44, 109,  59,  74,  61, 104,  66,  67, 273, 192,\n",
       "        50, 118, 372,  48, 232, 165,  91, 123,  88, 538,  49,  16, 105,\n",
       "       536, 216, 425, 117, 551,  99,  86, 101, 394,  78,  95, 181,  76,\n",
       "        34, 124, 548, 108,  85, 145,  79,  97,  75,  52, 215,  84,  96,\n",
       "        81, 139, 267,  80, 137, 119, 474, 158, 293, 122, 112, 149, 363,\n",
       "       271,  31, 171,  87, 168, 176, 347, 163, 190, 486, 133, 302, 268,\n",
       "       407, 116,  92, 115, 261], dtype=int64)"
      ]
     },
     "execution_count": 25,
     "metadata": {},
     "output_type": "execute_result"
    }
   ],
   "source": [
    "train_sample_df['app'].unique()"
   ]
  },
  {
   "cell_type": "code",
   "execution_count": 26,
   "metadata": {},
   "outputs": [
    {
     "data": {
      "text/plain": [
       "array([   1,    2, 3866,    0, 3032, 3543,    7,   40,  385,   56, 3282,\n",
       "        103,   16,   21,   30,    4,   59,   33,  211,   20,    5,  883,\n",
       "        154,  607,  957,   37,  102,  124, 2429,   50,  116,   18,  579,\n",
       "        188,   74,  291,   36, 1482,  347,  160,   25,  486,  516,   97,\n",
       "        321,  196,  581,   53,  828,  114,  109,    6,  414,  351,   60,\n",
       "        106, 3867, 1422,  210,  374,   76,  182,  129,   79,  362,  100,\n",
       "       1728, 2120, 1318,  386,  558,  180,  167,  202,   17,  203, 1162,\n",
       "        657,   78,    9, 3545, 1839,  420, 2980,  552,   67, 1080,   11,\n",
       "       3331,  329,  596,  163,  549,   58,  268,  928,  220,   49, 1042,\n",
       "        241], dtype=int64)"
      ]
     },
     "execution_count": 26,
     "metadata": {},
     "output_type": "execute_result"
    }
   ],
   "source": [
    "train_sample_df['device'].unique()"
   ]
  },
  {
   "cell_type": "code",
   "execution_count": 28,
   "metadata": {},
   "outputs": [
    {
     "data": {
      "image/png": "[encoded data removed]",
      "text/plain": [
       "<Figure size 432x288 with 1 Axes>"
      ]
     },
     "metadata": {},
     "output_type": "display_data"
    }
   ],
   "source": [
    "train_sample_df['app'].value_counts()[:20].plot(kind='bar');"
   ]
  },
  {
   "cell_type": "code",
   "execution_count": 5,
   "metadata": {},
   "outputs": [
    {
     "data": {
      "text/plain": [
       "device  os \n",
       "0       0        160\n",
       "        21        48\n",
       "        24       150\n",
       "        29        32\n",
       "        38        78\n",
       "        50        30\n",
       "        59        12\n",
       "        67         1\n",
       "        76        13\n",
       "        95         5\n",
       "        98         7\n",
       "        99         1\n",
       "        135        1\n",
       "        236        3\n",
       "1       1       1163\n",
       "        2        345\n",
       "        3       1533\n",
       "        4        282\n",
       "        5         57\n",
       "        6       2436\n",
       "        7        107\n",
       "        8       2709\n",
       "        9       1783\n",
       "        10      2709\n",
       "        11       652\n",
       "        12      1079\n",
       "        13     20405\n",
       "        14      1287\n",
       "        15      2317\n",
       "        16      1627\n",
       "               ...  \n",
       "142     0          1\n",
       "145     24         1\n",
       "154     50         1\n",
       "158     0          1\n",
       "160     0          2\n",
       "        21         1\n",
       "163     0          1\n",
       "164     0          1\n",
       "        76         1\n",
       "167     38         1\n",
       "180     29         1\n",
       "182     116        1\n",
       "        199        1\n",
       "188     29         1\n",
       "189     59         1\n",
       "192     29         1\n",
       "196     29         1\n",
       "202     24         1\n",
       "        38         1\n",
       "203     24         1\n",
       "210     0          1\n",
       "        24         1\n",
       "211     29         2\n",
       "215     67         2\n",
       "        236      149\n",
       "216     95       371\n",
       "217     0          1\n",
       "220     21         1\n",
       "230     24         1\n",
       "241     50         1\n",
       "Length: 300, dtype: int64"
      ]
     },
     "execution_count": 5,
     "metadata": {},
     "output_type": "execute_result"
    }
   ],
   "source": [
    "train_sample_df.groupby(['device','os']).size()"
   ]
  },
  {
   "cell_type": "code",
   "execution_count": 7,
   "metadata": {},
   "outputs": [
    {
     "data": {
      "text/plain": [
       "array([ 13,  17,  19,   1,  25,  22,  20,   2,  90,  10,  18,  40,  15,\n",
       "        27,  23,  53,  49,  37,  26,  41,   8,  11,   9,  14,  28,  47,\n",
       "         3,   6,  97,   4,  31,  16,  30,  32,  12,  46,  98,  65,  55,\n",
       "        29,  42,  39,  34,  95,  79,  35,  44,   7,   0, 236,  36,  99,\n",
       "        43,  21,  64,  58,  50,  24,  66,  57, 109,  70,  68,  56, 108,\n",
       "        76, 137,  48,   5,  38,  63, 100,  62,  96,  88,  73,  74, 138,\n",
       "        45,  84,  52,  61, 172,  59,  81, 102,  77,  78,  60, 153,  80,\n",
       "       118,  69,  85, 151, 178, 113, 192, 135, 198,  83, 112,  67, 132,\n",
       "        71, 142, 117, 111, 168, 106, 110, 129, 127, 107, 152, 155, 199,\n",
       "       133, 116,  92, 196,  87, 174, 207, 184, 114, 185, 193],\n",
       "      dtype=uint64)"
      ]
     },
     "execution_count": 7,
     "metadata": {},
     "output_type": "execute_result"
    }
   ],
   "source": [
    "train_sample_df['os'].unique()"
   ]
  },
  {
   "cell_type": "code",
   "execution_count": 12,
   "metadata": {},
   "outputs": [
    {
     "data": {
      "text/plain": [
       "34857"
      ]
     },
     "execution_count": 12,
     "metadata": {},
     "output_type": "execute_result"
    }
   ],
   "source": [
    "train_sample_df['ip'].unique().size"
   ]
  },
  {
   "cell_type": "code",
   "execution_count": 3,
   "metadata": {},
   "outputs": [
    {
     "name": "stdout",
     "output_type": "stream",
     "text": [
      "<class 'pandas.core.frame.DataFrame'>\n",
      "RangeIndex: 184903890 entries, 0 to 184903889\n",
      "Data columns (total 8 columns):\n",
      "ip                 uint32\n",
      "app                uint16\n",
      "device             uint8\n",
      "os                 uint8\n",
      "channel            uint8\n",
      "click_time         datetime64[ns]\n",
      "attributed_time    datetime64[ns]\n",
      "is_attributed      bool\n",
      "dtypes: bool(1), datetime64[ns](2), uint16(1), uint32(1), uint8(3)\n",
      "memory usage: 4.5 GB\n",
      "time: 6min 24s\n"
     ]
    }
   ],
   "source": [
    "dtypes = {'ip': np.uint32, 'app': np.uint16, 'device': np.uint8, 'os': np.uint8, 'channel': np.uint8, 'is_attributed': np.bool}\n",
    "train_df = pd.read_csv('raw_data/train.csv', sep=',', dtype=dtypes, parse_dates=['click_time', 'attributed_time'])\n",
    "train_df.info(memory_usage='deep')"
   ]
  },
  {
   "cell_type": "markdown",
   "metadata": {},
   "source": [
    "Feature Engineering\n",
    "\n",
    "\n"
   ]
  },
  {
   "cell_type": "code",
   "execution_count": 20,
   "metadata": {},
   "outputs": [
    {
     "data": {
      "text/plain": [
       "277396"
      ]
     },
     "execution_count": 20,
     "metadata": {},
     "output_type": "execute_result"
    }
   ],
   "source": []
  },
  {
   "cell_type": "code",
   "execution_count": 5,
   "metadata": {},
   "outputs": [
    {
     "name": "stdout",
     "output_type": "stream",
     "text": [
      "Unique 'ip' count: 277396\n",
      "Unique 'app' count: 706\n",
      "Unique 'device' & 'os' combinations count: 2532\n",
      "Unique 'channel' count: 160\n",
      "Total downloads count in training set: 3654768\n",
      "time: 41.4 s\n"
     ]
    }
   ],
   "source": [
    "print ('Unique \\'ip\\' count:',train_df.ip.unique().size)\n",
    "print ('Unique \\'app\\' count:',train_df.app.unique().size)\n",
    "print ('Unique \\'device\\' & \\'os\\' combinations count:',train_df.groupby(['device','os']).size().size)\n",
    "print ('Unique \\'channel\\' count:',train_df.channel.unique().size)\n",
    "print ('Total downloads count in training set:',train_df[train_df.is_attributed == 1].size)"
   ]
  },
  {
   "cell_type": "code",
   "execution_count": 9,
   "metadata": {},
   "outputs": [
    {
     "data": {
      "text/plain": [
       "array([nan, 16., 18.,  7.,  8.,  0., 12., 19., 11.,  1., 23.,  9., 14.,\n",
       "       17., 10., 21.,  2., 20., 22., 15., 13.,  6.,  5.,  3.,  4.])"
      ]
     },
     "execution_count": 9,
     "metadata": {},
     "output_type": "execute_result"
    },
    {
     "name": "stdout",
     "output_type": "stream",
     "text": [
      "time: 9.17 s\n"
     ]
    }
   ],
   "source": [
    "(train_df.attributed_time-train_df.click_time).astype('timedelta64[h]').unique()[:1000]"
   ]
  },
  {
   "cell_type": "markdown",
   "metadata": {},
   "source": [
    "Cross validation strategy\n",
    "\n",
    "Models\n",
    "\n",
    "\n",
    "Enassemble"
   ]
  }
 ],
 "metadata": {
  "kernelspec": {
   "display_name": "Python 3",
   "language": "python",
   "name": "python3"
  },
  "language_info": {
   "codemirror_mode": {
    "name": "ipython",
    "version": 3
   },
   "file_extension": ".py",
   "mimetype": "text/x-python",
   "name": "python",
   "nbconvert_exporter": "python",
   "pygments_lexer": "ipython3",
   "version": "3.6.4"
  }
 },
 "nbformat": 4,
 "nbformat_minor": 2
}
